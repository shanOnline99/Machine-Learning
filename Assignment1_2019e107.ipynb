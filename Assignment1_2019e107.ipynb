{
  "cells": [
    {
      "cell_type": "markdown",
      "metadata": {
        "id": "view-in-github",
        "colab_type": "text"
      },
      "source": [
        "<a href=\"https://colab.research.google.com/github/shanonline99/Machine-Learning/blob/main/Assignment1_2019e107.ipynb\" target=\"_parent\"><img src=\"https://colab.research.google.com/assets/colab-badge.svg\" alt=\"Open In Colab\"/></a>"
      ]
    },
    {
      "cell_type": "code",
      "execution_count": null,
      "id": "937fff4c",
      "metadata": {
        "id": "937fff4c",
        "outputId": "4b7bed68-6dc0-4557-ae5e-e4ca6bb9fd78"
      },
      "outputs": [
        {
          "name": "stdout",
          "output_type": "stream",
          "text": [
            "[6 3 6 2 2 4 2 9 2 8]\n"
          ]
        }
      ],
      "source": [
        "import numpy as np\n",
        "print (np.random.randint(1,10,10))"
      ]
    },
    {
      "cell_type": "code",
      "execution_count": null,
      "id": "e855e5d7",
      "metadata": {
        "id": "e855e5d7",
        "outputId": "acaf218b-dc86-45e5-fe8b-223caa4a87b1"
      },
      "outputs": [
        {
          "name": "stdout",
          "output_type": "stream",
          "text": [
            "[[0. 0. 0. 0. 0. 0. 0. 0. 0. 0.]\n",
            " [0. 0. 0. 0. 0. 0. 0. 0. 0. 0.]]\n"
          ]
        }
      ],
      "source": [
        "matrix = np.zeros((2, 10))\n",
        "print(matrix)"
      ]
    },
    {
      "cell_type": "code",
      "execution_count": null,
      "id": "7abcb680",
      "metadata": {
        "id": "7abcb680",
        "outputId": "0d61ce57-c092-41d3-da78-c76f5608a831"
      },
      "outputs": [
        {
          "name": "stdout",
          "output_type": "stream",
          "text": [
            "[[0.70287843 0.58449201 0.8627808  0.10733784 0.94882152 0.08981125\n",
            "  0.22039974 0.99576721 0.35916545 0.59849847]\n",
            " [0.42866253 0.86678599 0.08833647 0.41075002 0.31710719 0.83882306\n",
            "  0.9292645  0.1946581  0.47848146 0.07016588]]\n"
          ]
        }
      ],
      "source": [
        "matrix = np.random.rand(2,10)\n",
        "print(matrix)\n"
      ]
    },
    {
      "cell_type": "code",
      "execution_count": null,
      "id": "fe35c146",
      "metadata": {
        "id": "fe35c146",
        "outputId": "f25f5b7a-cbd8-42a2-a378-2ce9db6a78df"
      },
      "outputs": [
        {
          "name": "stdout",
          "output_type": "stream",
          "text": [
            "[[5 4 8 1 9 5 8 6 4 5]\n",
            " [3 6 2 2 8 6 5 7 6 7]]\n"
          ]
        }
      ],
      "source": [
        "matrix = np.random.randint(1,10,(2,10))\n",
        "print(matrix)"
      ]
    },
    {
      "cell_type": "code",
      "execution_count": null,
      "id": "5cae84a7",
      "metadata": {
        "id": "5cae84a7",
        "outputId": "7fcaa519-e8b5-4941-c11c-108d89319368"
      },
      "outputs": [
        {
          "name": "stdout",
          "output_type": "stream",
          "text": [
            "[5 4 8 1 9 5 8 6 4 5]\n",
            "[3 6 2 2 8 6 5 7 6 7]\n",
            "42.25\n"
          ]
        }
      ],
      "source": [
        "from sklearn.metrics import mean_squared_error\n",
        "test = matrix[0]\n",
        "predict = matrix[1]\n",
        "print(test )\n",
        "print (predict)\n",
        "\n",
        "MSE = mean_squared_error(test,predict)\n",
        "rmse = np.square(MSE)\n",
        "print(rmse)"
      ]
    },
    {
      "cell_type": "code",
      "execution_count": null,
      "id": "2e769f7d",
      "metadata": {
        "id": "2e769f7d",
        "outputId": "fcd62614-3003-4d50-9d7c-f24a8a1645d6"
      },
      "outputs": [
        {
          "name": "stdout",
          "output_type": "stream",
          "text": [
            "[[9 2 6 6 8 1 4 2 3 1]\n",
            " [8 6 1 8 7 1 8 8 9 5]]\n"
          ]
        }
      ],
      "source": [
        "matrix2 = np.random.randint(1,10,(2,10))\n",
        "print(matrix2)"
      ]
    },
    {
      "cell_type": "code",
      "execution_count": null,
      "id": "0308d822",
      "metadata": {
        "id": "0308d822",
        "outputId": "f590d135-7c65-499c-944e-2e1f7081faa0"
      },
      "outputs": [
        {
          "name": "stdout",
          "output_type": "stream",
          "text": [
            "              precision    recall  f1-score   support\n",
            "\n",
            "           1       0.00      0.00      0.00       0.0\n",
            "           2       0.00      0.00      0.00       1.0\n",
            "           4       0.00      0.00      0.00       3.0\n",
            "           6       0.00      0.00      0.00       3.0\n",
            "           7       0.00      0.00      0.00       2.0\n",
            "           8       0.00      0.00      0.00       0.0\n",
            "           9       0.00      0.00      0.00       1.0\n",
            "\n",
            "    accuracy                           0.00      10.0\n",
            "   macro avg       0.00      0.00      0.00      10.0\n",
            "weighted avg       0.00      0.00      0.00      10.0\n",
            "\n"
          ]
        },
        {
          "name": "stderr",
          "output_type": "stream",
          "text": [
            "C:\\Users\\www\\anaconda3\\lib\\site-packages\\sklearn\\metrics\\_classification.py:1344: UndefinedMetricWarning: Precision and F-score are ill-defined and being set to 0.0 in labels with no predicted samples. Use `zero_division` parameter to control this behavior.\n",
            "  _warn_prf(average, modifier, msg_start, len(result))\n",
            "C:\\Users\\www\\anaconda3\\lib\\site-packages\\sklearn\\metrics\\_classification.py:1344: UndefinedMetricWarning: Recall and F-score are ill-defined and being set to 0.0 in labels with no true samples. Use `zero_division` parameter to control this behavior.\n",
            "  _warn_prf(average, modifier, msg_start, len(result))\n",
            "C:\\Users\\www\\anaconda3\\lib\\site-packages\\sklearn\\metrics\\_classification.py:1344: UndefinedMetricWarning: Precision and F-score are ill-defined and being set to 0.0 in labels with no predicted samples. Use `zero_division` parameter to control this behavior.\n",
            "  _warn_prf(average, modifier, msg_start, len(result))\n",
            "C:\\Users\\www\\anaconda3\\lib\\site-packages\\sklearn\\metrics\\_classification.py:1344: UndefinedMetricWarning: Recall and F-score are ill-defined and being set to 0.0 in labels with no true samples. Use `zero_division` parameter to control this behavior.\n",
            "  _warn_prf(average, modifier, msg_start, len(result))\n",
            "C:\\Users\\www\\anaconda3\\lib\\site-packages\\sklearn\\metrics\\_classification.py:1344: UndefinedMetricWarning: Precision and F-score are ill-defined and being set to 0.0 in labels with no predicted samples. Use `zero_division` parameter to control this behavior.\n",
            "  _warn_prf(average, modifier, msg_start, len(result))\n",
            "C:\\Users\\www\\anaconda3\\lib\\site-packages\\sklearn\\metrics\\_classification.py:1344: UndefinedMetricWarning: Recall and F-score are ill-defined and being set to 0.0 in labels with no true samples. Use `zero_division` parameter to control this behavior.\n",
            "  _warn_prf(average, modifier, msg_start, len(result))\n"
          ]
        }
      ],
      "source": [
        "from sklearn.metrics import classification_report\n",
        "test = matrix2[0]\n",
        "predict = matrix2[1]\n",
        "print(classification_report(test,predict))"
      ]
    },
    {
      "cell_type": "code",
      "execution_count": null,
      "id": "3db3aeb2",
      "metadata": {
        "id": "3db3aeb2",
        "outputId": "dd3b3f80-e52f-4d96-9277-c0429815e938"
      },
      "outputs": [
        {
          "name": "stdout",
          "output_type": "stream",
          "text": [
            "[[0 0 0 0 0 0 0]\n",
            " [0 0 0 0 0 0 1]\n",
            " [1 0 0 0 2 0 0]\n",
            " [0 0 2 0 1 0 0]\n",
            " [0 0 2 0 0 0 0]\n",
            " [0 0 0 0 0 0 0]\n",
            " [0 0 0 0 0 1 0]]\n"
          ]
        },
        {
          "data": {
            "image/png": "[encoded data removed]",
            "text/plain": [
              "<Figure size 640x480 with 2 Axes>"
            ]
          },
          "metadata": {},
          "output_type": "display_data"
        }
      ],
      "source": [
        "from sklearn.metrics import confusion_matrix\n",
        "import seaborn as sns\n",
        "import matplotlib.pyplot as plt\n",
        "\n",
        "test = matrix2[0]\n",
        "predict = matrix2[1]\n",
        "\n",
        "print(confusion_matrix(test, predict))\n",
        "\n",
        "sns.heatmap(confusion_matrix(test, predict), annot=True, fmt='d')\n",
        "\n",
        "\n",
        "plt.show()"
      ]
    },
    {
      "cell_type": "code",
      "execution_count": null,
      "id": "609a1d92",
      "metadata": {
        "id": "609a1d92",
        "outputId": "763dd6a4-0ee4-4d7c-92ef-7f8686931947"
      },
      "outputs": [
        {
          "name": "stdout",
          "output_type": "stream",
          "text": [
            "Accuracy: 0.1\n",
            "Precision: 0.05555555555555555\n",
            "Recall: 0.05555555555555555\n",
            "F1-score: 0.05555555555555555\n"
          ]
        },
        {
          "name": "stderr",
          "output_type": "stream",
          "text": [
            "C:\\Users\\www\\anaconda3\\lib\\site-packages\\sklearn\\metrics\\_classification.py:1344: UndefinedMetricWarning: Precision is ill-defined and being set to 0.0 in labels with no predicted samples. Use `zero_division` parameter to control this behavior.\n",
            "  _warn_prf(average, modifier, msg_start, len(result))\n",
            "C:\\Users\\www\\anaconda3\\lib\\site-packages\\sklearn\\metrics\\_classification.py:1344: UndefinedMetricWarning: Recall is ill-defined and being set to 0.0 in labels with no true samples. Use `zero_division` parameter to control this behavior.\n",
            "  _warn_prf(average, modifier, msg_start, len(result))\n"
          ]
        }
      ],
      "source": [
        "from sklearn.metrics import accuracy_score, precision_score, recall_score, f1_score\n",
        "\n",
        "test = matrix2[0]\n",
        "predict = matrix2[1]\n",
        "\n",
        "accuracy = accuracy_score(test, predict)\n",
        "precision = precision_score(test, predict, average='macro')\n",
        "recall = recall_score(test, predict, average='macro')\n",
        "f1 = f1_score(test, predict, average='macro')\n",
        "\n",
        "print(\"Accuracy:\", accuracy)\n",
        "print(\"Precision:\", precision)\n",
        "print(\"Recall:\", recall)\n",
        "print(\"F1-score:\", f1)"
      ]
    },
    {
      "cell_type": "code",
      "execution_count": null,
      "id": "d8bb74f0",
      "metadata": {
        "id": "d8bb74f0",
        "outputId": "271f3d29-12c4-45c2-ca22-8fc45851ef71"
      },
      "outputs": [
        {
          "ename": "NameError",
          "evalue": "name 'classifier' is not defined",
          "output_type": "error",
          "traceback": [
            "\u001b[1;31m---------------------------------------------------------------------------\u001b[0m",
            "\u001b[1;31mNameError\u001b[0m                                 Traceback (most recent call last)",
            "Cell \u001b[1;32mIn[6], line 10\u001b[0m\n\u001b[0;32m      7\u001b[0m test \u001b[38;5;241m=\u001b[39m matrix2[\u001b[38;5;241m0\u001b[39m]\n\u001b[0;32m      8\u001b[0m predict \u001b[38;5;241m=\u001b[39m matrix2[\u001b[38;5;241m1\u001b[39m]\n\u001b[1;32m---> 10\u001b[0m prob \u001b[38;5;241m=\u001b[39m \u001b[43mclassifier\u001b[49m\u001b[38;5;241m.\u001b[39mpredict_proba(predict)\n\u001b[0;32m     12\u001b[0m \u001b[38;5;28mprint\u001b[39m(prob)\n\u001b[0;32m     14\u001b[0m fpr, tpr, thresholds \u001b[38;5;241m=\u001b[39m roc_curve(test,predict)\n",
            "\u001b[1;31mNameError\u001b[0m: name 'classifier' is not defined"
          ]
        }
      ],
      "source": [
        "import numpy as np\n",
        "import matplotlib.pyplot as plt\n",
        "from sklearn.metrics import roc_curve, roc_auc_score\n",
        "from sklearn.multiclass import OneVsRestClassifier\n",
        "\n",
        "matrix2 = np.random.randint(1,10,(2,10))\n",
        "test = matrix2[0]\n",
        "predict = matrix2[1]\n",
        "\n",
        "prob = classifier.predict_proba(predict)\n",
        "\n",
        "print(prob)\n",
        "\n",
        "fpr, tpr, thresholds = roc_curve(test,predict)\n",
        "\n",
        "\n",
        "auc_score = roc_auc_score(test,prob) # Calculate AUC score\n",
        "\n",
        "# Plot ROC curve\n",
        "\n",
        "plt.plot(fpr, tpr, label='ROC curve (AUC = {:.2f})'.format(auc_score))\n",
        "plt.plot([0, 1], [0, 1], linestyle='--', label='Random guessing')\n",
        "plt.xlabel('False Positive Rate')\n",
        "plt.ylabel('True Positive Rate')\n",
        "plt.title('Receiver Operating Characteristic (ROC) Curve')\n",
        "plt.legend()\n",
        "plt.show()"
      ]
    },
    {
      "cell_type": "code",
      "execution_count": null,
      "id": "303e440d",
      "metadata": {
        "id": "303e440d"
      },
      "outputs": [],
      "source": [
        "from sklearn.model_selection import train_test_split\n",
        "\n",
        "X_train, X_test, y_train, y_test = train_test_split(matrix2.T, matrix2[0], test_size=0.2, random_state=42)"
      ]
    },
    {
      "cell_type": "code",
      "execution_count": null,
      "id": "e88c1b2a",
      "metadata": {
        "id": "e88c1b2a",
        "outputId": "635c07e5-aacd-44b1-f17a-c8678159435f"
      },
      "outputs": [
        {
          "data": {
            "image/png": "[encoded data removed]",
            "text/plain": [
              "<Figure size 640x480 with 1 Axes>"
            ]
          },
          "metadata": {},
          "output_type": "display_data"
        }
      ],
      "source": [
        "import numpy as np\n",
        "import matplotlib.pyplot as plt\n",
        "from sklearn.metrics import roc_curve, roc_auc_score\n",
        "\n",
        "matrix2 = np.random.randint(2, size=(2, 10))\n",
        "\n",
        "test = matrix2[0]\n",
        "predict = matrix2[1]\n",
        "\n",
        "# Compute ROC curve\n",
        "fpr, tpr, thresholds = roc_curve(test, predict)\n",
        "\n",
        "# Plot ROC curve\n",
        "plt.plot(fpr, tpr)\n",
        "plt.xlabel('False Positive Rate')\n",
        "plt.ylabel('True Positive Rate')\n",
        "plt.title('ROC Curve')\n",
        "plt.show()"
      ]
    },
    {
      "cell_type": "code",
      "execution_count": null,
      "id": "06b3d400",
      "metadata": {
        "id": "06b3d400"
      },
      "outputs": [],
      "source": []
    }
  ],
  "metadata": {
    "kernelspec": {
      "display_name": "Python 3 (ipykernel)",
      "language": "python",
      "name": "python3"
    },
    "language_info": {
      "codemirror_mode": {
        "name": "ipython",
        "version": 3
      },
      "file_extension": ".py",
      "mimetype": "text/x-python",
      "name": "python",
      "nbconvert_exporter": "python",
      "pygments_lexer": "ipython3",
      "version": "3.10.9"
    },
    "colab": {
      "provenance": [],
      "include_colab_link": true
    }
  },
  "nbformat": 4,
  "nbformat_minor": 5
}