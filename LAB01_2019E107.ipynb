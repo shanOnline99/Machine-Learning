{
  "cells": [
    {
      "cell_type": "markdown",
      "metadata": {
        "id": "view-in-github",
        "colab_type": "text"
      },
      "source": [
        "<a href=\"https://colab.research.google.com/github/shanOnline99/Machine-Learning/blob/main/LAB01_2019E107.ipynb\" target=\"_parent\"><img src=\"https://colab.research.google.com/assets/colab-badge.svg\" alt=\"Open In Colab\"/></a>"
      ]
    },
    {
      "cell_type": "markdown",
      "id": "80f02ba9",
      "metadata": {
        "id": "80f02ba9"
      },
      "source": [
        "1. Load the breast cancer dataset (Breast Cancer Wisconsin (Diagnostic)\n",
        "Data Set) from scikit-learn datasets module."
      ]
    },
    {
      "cell_type": "code",
      "execution_count": null,
      "id": "46e899b4",
      "metadata": {
        "id": "46e899b4"
      },
      "outputs": [],
      "source": [
        "from sklearn.datasets import load_breast_cancer\n",
        "# Load the breast cancer dataset into breast_cancer\n",
        "breast_cancer = load_breast_cancer()"
      ]
    },
    {
      "cell_type": "markdown",
      "id": "cfe979af",
      "metadata": {
        "id": "cfe979af"
      },
      "source": [
        "2. Laern the data. Find the,\n",
        " shape of the data.\n",
        " Sample count per class.\n",
        " Features in the dataset.\n",
        " Other properties of the dataset."
      ]
    },
    {
      "cell_type": "code",
      "execution_count": null,
      "id": "b54cc535",
      "metadata": {
        "id": "b54cc535",
        "outputId": "66f435c3-afc9-48c7-c0f4-375ec7b83bf8"
      },
      "outputs": [
        {
          "name": "stdout",
          "output_type": "stream",
          "text": [
            "(569, 30)\n"
          ]
        }
      ],
      "source": [
        "#shape of the data\n",
        "shape = breast_cancer.data.shape\n",
        "print(shape)"
      ]
    },
    {
      "cell_type": "code",
      "execution_count": null,
      "id": "d4433535",
      "metadata": {
        "id": "d4433535",
        "outputId": "63af8417-553f-47a0-c769-6674e5079c41"
      },
      "outputs": [
        {
          "name": "stdout",
          "output_type": "stream",
          "text": [
            "sample_count_per_class:  {'malignant': 212, 'benign': 357}\n"
          ]
        }
      ],
      "source": [
        "import numpy as np\n",
        "#sample count per class\n",
        "sample_count = dict(zip(breast_cancer.target_names, np.bincount(breast_cancer.target)))\n",
        "print(\"sample_count_per_class: \",sample_count)"
      ]
    },
    {
      "cell_type": "code",
      "execution_count": null,
      "id": "54502659",
      "metadata": {
        "id": "54502659",
        "outputId": "107bd5e4-4d7d-47be-bce5-522a6ea9923e"
      },
      "outputs": [
        {
          "name": "stdout",
          "output_type": "stream",
          "text": [
            "Features in the dataset:  ['mean radius' 'mean texture' 'mean perimeter' 'mean area'\n",
            " 'mean smoothness' 'mean compactness' 'mean concavity'\n",
            " 'mean concave points' 'mean symmetry' 'mean fractal dimension'\n",
            " 'radius error' 'texture error' 'perimeter error' 'area error'\n",
            " 'smoothness error' 'compactness error' 'concavity error'\n",
            " 'concave points error' 'symmetry error' 'fractal dimension error'\n",
            " 'worst radius' 'worst texture' 'worst perimeter' 'worst area'\n",
            " 'worst smoothness' 'worst compactness' 'worst concavity'\n",
            " 'worst concave points' 'worst symmetry' 'worst fractal dimension']\n"
          ]
        }
      ],
      "source": [
        "#Features in the dataset\n",
        "print(\"Features in the dataset: \",breast_cancer.feature_names)"
      ]
    },
    {
      "cell_type": "code",
      "execution_count": null,
      "id": "44a9c5bc",
      "metadata": {
        "id": "44a9c5bc",
        "outputId": "3c0dd813-b06b-4652-d127-692851bdc456"
      },
      "outputs": [
        {
          "name": "stdout",
          "output_type": "stream",
          "text": [
            ".. _breast_cancer_dataset:\n",
            "\n",
            "Breast cancer wisconsin (diagnostic) dataset\n",
            "--------------------------------------------\n",
            "\n",
            "**Data Set Characteristics:**\n",
            "\n",
            "    :Number of Instances: 569\n",
            "\n",
            "    :Number of Attributes: 30 numeric, predictive attributes and the class\n",
            "\n",
            "    :Attribute Information:\n",
            "        - radius (mean of distances from center to points on the perimeter)\n",
            "        - texture (standard deviation of gray-scale values)\n",
            "        - perimeter\n",
            "        - area\n",
            "        - smoothness (local variation in radius lengths)\n",
            "        - compactness (perimeter^2 / area - 1.0)\n",
            "        - concavity (severity of concave portions of the contour)\n",
            "        - concave points (number of concave portions of the contour)\n",
            "        - symmetry\n",
            "        - fractal dimension (\"coastline approximation\" - 1)\n",
            "\n",
            "        The mean, standard error, and \"worst\" or largest (mean of the three\n",
            "        worst/largest values) of these features were computed for each image,\n",
            "        resulting in 30 features.  For instance, field 0 is Mean Radius, field\n",
            "        10 is Radius SE, field 20 is Worst Radius.\n",
            "\n",
            "        - class:\n",
            "                - WDBC-Malignant\n",
            "                - WDBC-Benign\n",
            "\n",
            "    :Summary Statistics:\n",
            "\n",
            "    ===================================== ====== ======\n",
            "                                           Min    Max\n",
            "    ===================================== ====== ======\n",
            "    radius (mean):                        6.981  28.11\n",
            "    texture (mean):                       9.71   39.28\n",
            "    perimeter (mean):                     43.79  188.5\n",
            "    area (mean):                          143.5  2501.0\n",
            "    smoothness (mean):                    0.053  0.163\n",
            "    compactness (mean):                   0.019  0.345\n",
            "    concavity (mean):                     0.0    0.427\n",
            "    concave points (mean):                0.0    0.201\n",
            "    symmetry (mean):                      0.106  0.304\n",
            "    fractal dimension (mean):             0.05   0.097\n",
            "    radius (standard error):              0.112  2.873\n",
            "    texture (standard error):             0.36   4.885\n",
            "    perimeter (standard error):           0.757  21.98\n",
            "    area (standard error):                6.802  542.2\n",
            "    smoothness (standard error):          0.002  0.031\n",
            "    compactness (standard error):         0.002  0.135\n",
            "    concavity (standard error):           0.0    0.396\n",
            "    concave points (standard error):      0.0    0.053\n",
            "    symmetry (standard error):            0.008  0.079\n",
            "    fractal dimension (standard error):   0.001  0.03\n",
            "    radius (worst):                       7.93   36.04\n",
            "    texture (worst):                      12.02  49.54\n",
            "    perimeter (worst):                    50.41  251.2\n",
            "    area (worst):                         185.2  4254.0\n",
            "    smoothness (worst):                   0.071  0.223\n",
            "    compactness (worst):                  0.027  1.058\n",
            "    concavity (worst):                    0.0    1.252\n",
            "    concave points (worst):               0.0    0.291\n",
            "    symmetry (worst):                     0.156  0.664\n",
            "    fractal dimension (worst):            0.055  0.208\n",
            "    ===================================== ====== ======\n",
            "\n",
            "    :Missing Attribute Values: None\n",
            "\n",
            "    :Class Distribution: 212 - Malignant, 357 - Benign\n",
            "\n",
            "    :Creator:  Dr. William H. Wolberg, W. Nick Street, Olvi L. Mangasarian\n",
            "\n",
            "    :Donor: Nick Street\n",
            "\n",
            "    :Date: November, 1995\n",
            "\n",
            "This is a copy of UCI ML Breast Cancer Wisconsin (Diagnostic) datasets.\n",
            "https://goo.gl/U2Uwz2\n",
            "\n",
            "Features are computed from a digitized image of a fine needle\n",
            "aspirate (FNA) of a breast mass.  They describe\n",
            "characteristics of the cell nuclei present in the image.\n",
            "\n",
            "Separating plane described above was obtained using\n",
            "Multisurface Method-Tree (MSM-T) [K. P. Bennett, \"Decision Tree\n",
            "Construction Via Linear Programming.\" Proceedings of the 4th\n",
            "Midwest Artificial Intelligence and Cognitive Science Society,\n",
            "pp. 97-101, 1992], a classification method which uses linear\n",
            "programming to construct a decision tree.  Relevant features\n",
            "were selected using an exhaustive search in the space of 1-4\n",
            "features and 1-3 separating planes.\n",
            "\n",
            "The actual linear program used to obtain the separating plane\n",
            "in the 3-dimensional space is that described in:\n",
            "[K. P. Bennett and O. L. Mangasarian: \"Robust Linear\n",
            "Programming Discrimination of Two Linearly Inseparable Sets\",\n",
            "Optimization Methods and Software 1, 1992, 23-34].\n",
            "\n",
            "This database is also available through the UW CS ftp server:\n",
            "\n",
            "ftp ftp.cs.wisc.edu\n",
            "cd math-prog/cpo-dataset/machine-learn/WDBC/\n",
            "\n",
            ".. topic:: References\n",
            "\n",
            "   - W.N. Street, W.H. Wolberg and O.L. Mangasarian. Nuclear feature extraction \n",
            "     for breast tumor diagnosis. IS&T/SPIE 1993 International Symposium on \n",
            "     Electronic Imaging: Science and Technology, volume 1905, pages 861-870,\n",
            "     San Jose, CA, 1993.\n",
            "   - O.L. Mangasarian, W.N. Street and W.H. Wolberg. Breast cancer diagnosis and \n",
            "     prognosis via linear programming. Operations Research, 43(4), pages 570-577, \n",
            "     July-August 1995.\n",
            "   - W.H. Wolberg, W.N. Street, and O.L. Mangasarian. Machine learning techniques\n",
            "     to diagnose breast cancer from fine-needle aspirates. Cancer Letters 77 (1994) \n",
            "     163-171.\n"
          ]
        }
      ],
      "source": [
        "#Other properties of the dataset\n",
        "print(breast_cancer.DESCR)"
      ]
    },
    {
      "cell_type": "markdown",
      "id": "25ae7d12",
      "metadata": {
        "id": "25ae7d12"
      },
      "source": [
        "3. Divide your data into two sets, feature values (X) and target values (y)."
      ]
    },
    {
      "cell_type": "code",
      "execution_count": null,
      "id": "6c4422e5",
      "metadata": {
        "id": "6c4422e5"
      },
      "outputs": [],
      "source": [
        "X = breast_cancer.data # Feature values\n",
        "y = breast_cancer.target # Target values"
      ]
    },
    {
      "cell_type": "code",
      "execution_count": null,
      "id": "bc2dd749",
      "metadata": {
        "id": "bc2dd749",
        "outputId": "61860d3a-e500-4790-b07d-4ba7b60db84c"
      },
      "outputs": [
        {
          "name": "stdout",
          "output_type": "stream",
          "text": [
            "Score_of_the_whole_data_model:  0.9472759226713533\n"
          ]
        }
      ],
      "source": [
        "from sklearn.neighbors import KNeighborsClassifier\n",
        "k = 5\n",
        "\n",
        "knn_whole = KNeighborsClassifier(n_neighbors=k) # Fit the model on whole data\n",
        "\n",
        "knn_whole.fit(X, y) # Train the model\n",
        "\n",
        "y_pred_whole = knn_whole.predict(X) # Test the model on the same data\n",
        "\n",
        "# Print the score of the model\n",
        "print(\"Score_of_the_whole_data_model: \", knn_whole.score(X, y))"
      ]
    },
    {
      "cell_type": "code",
      "execution_count": null,
      "id": "0380748d",
      "metadata": {
        "id": "0380748d",
        "outputId": "215e1908-adf5-42d6-d881-a706eb9bd81e"
      },
      "outputs": [
        {
          "name": "stdout",
          "output_type": "stream",
          "text": [
            "Score_of_the_split_data_model:  0.9122807017543859\n"
          ]
        }
      ],
      "source": [
        "from sklearn.model_selection import train_test_split\n",
        "\n",
        "X_train, X_test, y_train, y_test = train_test_split(X, y, test_size=0.2) # Divide the whole data into 80% train and 20% test\n",
        "\n",
        "knn = KNeighborsClassifier(n_neighbors=k) # Create the knn model with k = 5\n",
        "\n",
        "knn.fit(X_train, y_train) # Train the model\n",
        "\n",
        "y_pred = knn.predict(X_test) # Test the model on the test data\n",
        "\n",
        "# Print the score of the new model\n",
        "print(\"Score_of_the_split_data_model: \",knn.score(X_test, y_test))"
      ]
    },
    {
      "cell_type": "markdown",
      "id": "713f943b",
      "metadata": {
        "id": "713f943b"
      },
      "source": [
        "5. Do the following experiment on the split data. Change the number\n",
        "of neighbors from 1 to 8 and see how training accuracy and testing\n",
        "accuracy are changing with number of neighbors."
      ]
    },
    {
      "cell_type": "code",
      "execution_count": null,
      "id": "d3071c3f",
      "metadata": {
        "id": "d3071c3f",
        "outputId": "5cc4c21d-4498-45c2-8d26-d864baa5e2f9"
      },
      "outputs": [
        {
          "name": "stdout",
          "output_type": "stream",
          "text": [
            "Training_Accuracies: [1.0, 0.967032967032967, 0.9582417582417583, 0.9538461538461539, 0.9516483516483516, 0.9494505494505494, 0.9472527472527472, 0.9516483516483516]\n",
            "\n",
            "Testing_Accuracies: [0.8947368421052632, 0.9122807017543859, 0.9122807017543859, 0.9122807017543859, 0.9122807017543859, 0.9122807017543859, 0.9035087719298246, 0.9122807017543859]\n",
            "\n"
          ]
        }
      ],
      "source": [
        "n_neighbors_values = list(range(1, 9))\n",
        "training_accuracies = []\n",
        "testing_accuracies = []\n",
        "\n",
        "for k in n_neighbors_values:\n",
        "        knn = KNeighborsClassifier(n_neighbors=k)\n",
        "        knn.fit(X_train, y_train)\n",
        "\n",
        "# Accuracy of the k-NN classifier on the training data\n",
        "        training_accuracy = knn.score(X_train, y_train)\n",
        "        training_accuracies.append(training_accuracy)\n",
        "\n",
        "# Accuracy of the k-NN classifier on the testing data\n",
        "        testing_accuracy = knn.score(X_test, y_test)\n",
        "        testing_accuracies.append(testing_accuracy)\n",
        "\n",
        "print(f\"Training_Accuracies: {training_accuracies}\\n\")\n",
        "print(f\"Testing_Accuracies: {testing_accuracies}\\n\")"
      ]
    },
    {
      "cell_type": "markdown",
      "id": "2c21050d",
      "metadata": {
        "id": "2c21050d"
      },
      "source": [
        "6. Plot both the accuracy values on the same graph and see the changes."
      ]
    },
    {
      "cell_type": "code",
      "execution_count": null,
      "id": "273269e6",
      "metadata": {
        "id": "273269e6",
        "outputId": "3e6d25d7-fe8f-4767-92e3-d78b34b34ec0"
      },
      "outputs": [
        {
          "data": {
            "image/png": "[encoded data removed]",
            "text/plain": [
              "<Figure size 640x480 with 1 Axes>"
            ]
          },
          "metadata": {},
          "output_type": "display_data"
        }
      ],
      "source": [
        "import matplotlib.pyplot as plt\n",
        "\n",
        "plt.plot(n_neighbors_values, training_accuracies, label=\"Training Accuracy\")\n",
        "plt.plot(n_neighbors_values, testing_accuracies, label=\"Testing Accuracy\")\n",
        "plt.xlabel(\"n_neighbors\")\n",
        "plt.ylabel(\"Accuracy\")\n",
        "plt.title(\"k-NN Classifier Accuracy vs. n_neighbors\")\n",
        "plt.legend()\n",
        "plt.show()"
      ]
    },
    {
      "cell_type": "markdown",
      "id": "80eda265",
      "metadata": {
        "id": "80eda265"
      },
      "source": [
        "7. Select the best number of neighbors from the above graph."
      ]
    },
    {
      "cell_type": "code",
      "execution_count": null,
      "id": "b36f7fe2",
      "metadata": {
        "id": "b36f7fe2"
      },
      "outputs": [],
      "source": [
        "# best number of neighbor is 6"
      ]
    },
    {
      "cell_type": "markdown",
      "id": "775a23c8",
      "metadata": {
        "id": "775a23c8"
      },
      "source": [
        "8. Fit a nearest neighbor model with that value and print the score."
      ]
    },
    {
      "cell_type": "code",
      "execution_count": null,
      "id": "9062ac07",
      "metadata": {
        "id": "9062ac07",
        "outputId": "63b7ad7b-dd8a-4871-ec42-a06edb65b44e"
      },
      "outputs": [
        {
          "name": "stdout",
          "output_type": "stream",
          "text": [
            "Score of the model for k=6: 0.9122807017543859\n"
          ]
        }
      ],
      "source": [
        "k =6\n",
        "knn = KNeighborsClassifier(n_neighbors=k)\n",
        "knn.fit(X_train, y_train)\n",
        "print(f\"Score of the model for k={k}: {knn.score(X_test, y_test)}\")"
      ]
    },
    {
      "cell_type": "markdown",
      "id": "12e3a4a5",
      "metadata": {
        "id": "12e3a4a5"
      },
      "source": [
        "9. Calculate the root mean squared value of your model."
      ]
    },
    {
      "cell_type": "code",
      "execution_count": null,
      "id": "d5b24b88",
      "metadata": {
        "id": "d5b24b88",
        "outputId": "f5a66f87-de71-43d8-a4db-349b69faddde"
      },
      "outputs": [
        {
          "name": "stdout",
          "output_type": "stream",
          "text": [
            "Root Mean Squared Error of the model:  0.2961744388795462\n"
          ]
        }
      ],
      "source": [
        "from sklearn.metrics import mean_squared_error\n",
        "\n",
        "y_pred = knn.predict(X_test)\n",
        "rmse = np.sqrt(mean_squared_error(y_test, y_pred))\n",
        "print(\"Root Mean Squared Error of the model: \", rmse)"
      ]
    },
    {
      "cell_type": "markdown",
      "id": "d6f79c05",
      "metadata": {
        "id": "d6f79c05"
      },
      "source": [
        "10. Plot a confusion matrix and interpret the result."
      ]
    },
    {
      "cell_type": "code",
      "execution_count": null,
      "id": "fdf8259b",
      "metadata": {
        "id": "fdf8259b",
        "outputId": "73f83bb3-0484-4a95-cd26-96e551de379b"
      },
      "outputs": [
        {
          "data": {
            "image/png": "[encoded data removed]",
            "text/plain": [
              "<Figure size 640x480 with 2 Axes>"
            ]
          },
          "metadata": {},
          "output_type": "display_data"
        }
      ],
      "source": [
        "from sklearn.metrics import confusion_matrix\n",
        "\n",
        "cm = confusion_matrix(y_test, y_pred)\n",
        "plt.figure()\n",
        "plt.imshow(cm, cmap=\"Greens\")\n",
        "plt.title(\"Confusion Matrix\")\n",
        "plt.xlabel(\"Predicted\")\n",
        "plt.ylabel(\"Actual\")\n",
        "plt.colorbar()\n",
        "plt.show()"
      ]
    },
    {
      "cell_type": "code",
      "execution_count": null,
      "id": "7bc695cd",
      "metadata": {
        "id": "7bc695cd"
      },
      "outputs": [],
      "source": []
    }
  ],
  "metadata": {
    "kernelspec": {
      "display_name": "Python 3 (ipykernel)",
      "language": "python",
      "name": "python3"
    },
    "language_info": {
      "codemirror_mode": {
        "name": "ipython",
        "version": 3
      },
      "file_extension": ".py",
      "mimetype": "text/x-python",
      "name": "python",
      "nbconvert_exporter": "python",
      "pygments_lexer": "ipython3",
      "version": "3.10.9"
    },
    "colab": {
      "provenance": [],
      "include_colab_link": true
    }
  },
  "nbformat": 4,
  "nbformat_minor": 5
}